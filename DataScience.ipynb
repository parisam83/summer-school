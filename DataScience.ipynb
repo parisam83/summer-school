{
 "cells": [
  {
   "cell_type": "markdown",
   "metadata": {},
   "source": [
    "**Pandas** is an open source library providing high-performance, easy-to-use data structures and data analysis tools for the Python programming.\n",
    "\n",
    "**NumPy** is a library for the Python programming language, adding support for large, multi-dimensional arrays and matrices.\n",
    "\n",
    "**Matplotlib** is a Python 2D plotting library which produces publication quality figures."
   ]
  },
  {
   "cell_type": "markdown",
   "metadata": {},
   "source": [
    "#### افزودن کتابخانه ها"
   ]
  },
  {
   "cell_type": "code",
   "execution_count": null,
   "metadata": {},
   "outputs": [],
   "source": [
    "import pandas as pd\n",
    "import numpy as np\n",
    "import matplotlib.pyplot as plt"
   ]
  },
  {
   "cell_type": "markdown",
   "metadata": {},
   "source": [
    "## وارد کردن اطلاعات"
   ]
  },
  {
   "cell_type": "markdown",
   "metadata": {},
   "source": [
    "#### وارد کردن (خواندن) اطلاعات\n",
    "**pd.read_csv(file_path)**\n",
    "\n",
    "خروجی تابع از نوع داده «دیتافریم» می باشد\n",
    "در ادامه به آن می پردازیم"
   ]
  },
  {
   "cell_type": "code",
   "execution_count": null,
   "metadata": {},
   "outputs": [],
   "source": []
  },
  {
   "cell_type": "markdown",
   "metadata": {},
   "source": [
    "## بررسی، توصیف و خلاصه سازی و مشاهده داده"
   ]
  },
  {
   "cell_type": "markdown",
   "metadata": {},
   "source": [
    "#### تعداد سطرها و ستون های دیتافریم\n",
    "**pd.DataFrame.shape**"
   ]
  },
  {
   "cell_type": "code",
   "execution_count": null,
   "metadata": {},
   "outputs": [],
   "source": []
  },
  {
   "cell_type": "markdown",
   "metadata": {},
   "source": [
    "#### نمونه های ابتدایی و انتهایی دیتافریم \n",
    "**pd.DataFrame.head()**\n",
    "\n",
    "**pd.DataFrame.tail()**"
   ]
  },
  {
   "cell_type": "code",
   "execution_count": null,
   "metadata": {},
   "outputs": [],
   "source": []
  },
  {
   "cell_type": "markdown",
   "metadata": {},
   "source": [
    "#### نمونه گیری تصادفی از سطرهای دیتافریم\n",
    "**pd.DataFrame.sample**"
   ]
  },
  {
   "cell_type": "code",
   "execution_count": null,
   "metadata": {},
   "outputs": [],
   "source": []
  },
  {
   "cell_type": "markdown",
   "metadata": {},
   "source": [
    "#### توصیف برخی ویژگی های مهم داده \n",
    "**pd.DataFrame.describe()**"
   ]
  },
  {
   "cell_type": "code",
   "execution_count": null,
   "metadata": {},
   "outputs": [],
   "source": []
  },
  {
   "cell_type": "markdown",
   "metadata": {},
   "source": [
    "#### مشاهده مقادیر داده در دیتافریم\n",
    "**pd.DataFrame.values**"
   ]
  },
  {
   "cell_type": "code",
   "execution_count": null,
   "metadata": {},
   "outputs": [],
   "source": []
  },
  {
   "cell_type": "markdown",
   "metadata": {},
   "source": [
    "#### شمارش مقادیر مختلف سطرها روی یک ستون یا یک ویژگی\n",
    "**pd.DataFrame['w'].value_counts()**"
   ]
  },
  {
   "cell_type": "code",
   "execution_count": null,
   "metadata": {},
   "outputs": [],
   "source": []
  },
  {
   "cell_type": "markdown",
   "metadata": {},
   "source": [
    "#### تعداد مقادیر غیرتکراری یک ستون \n",
    "**pd.DataFrame['w'].nunique()**"
   ]
  },
  {
   "cell_type": "code",
   "execution_count": null,
   "metadata": {},
   "outputs": [],
   "source": []
  },
  {
   "cell_type": "markdown",
   "metadata": {},
   "source": [
    "## انتخاب و فیلتر کردن داده"
   ]
  },
  {
   "cell_type": "markdown",
   "metadata": {},
   "source": [
    "#### انتخاب یک ستون مشخص با استفاده از نام ستون\n",
    "**pd.DataFrame['w']**\n",
    "یا\n",
    "**pd.DataFrame.w**"
   ]
  },
  {
   "cell_type": "code",
   "execution_count": null,
   "metadata": {},
   "outputs": [],
   "source": []
  },
  {
   "cell_type": "markdown",
   "metadata": {},
   "source": [
    "#### انتخاب چندین ستون\n",
    "**pd.DataFrame['x','y','z']**"
   ]
  },
  {
   "cell_type": "code",
   "execution_count": null,
   "metadata": {},
   "outputs": [],
   "source": []
  },
  {
   "cell_type": "markdown",
   "metadata": {},
   "source": [
    "#### انتخاب همه ستون های بین x و y\n",
    "**pd.DataFrame.loc[:,'x':'y']**"
   ]
  },
  {
   "cell_type": "code",
   "execution_count": null,
   "metadata": {},
   "outputs": [],
   "source": []
  },
  {
   "cell_type": "markdown",
   "metadata": {},
   "source": [
    "#### انتخاب ستون ها در موقعیت های 1و3و7\n",
    "**pd.DataFrame.iloc[:,[1,3,7]]**"
   ]
  },
  {
   "cell_type": "code",
   "execution_count": null,
   "metadata": {},
   "outputs": [],
   "source": []
  },
  {
   "cell_type": "markdown",
   "metadata": {},
   "source": [
    "#### انتخاب ستون های مشخص با یک شرط خاص\n",
    "**pd.DataFrame.loc[pd.DataFrame['x']>10,['x','y']]**"
   ]
  },
  {
   "cell_type": "markdown",
   "metadata": {},
   "source": [
    "## پاکسازی و جاسازی داده"
   ]
  },
  {
   "cell_type": "markdown",
   "metadata": {},
   "source": [
    "#### حذف سطرهایی که ستون(های) آنها مقداری ندارند \n",
    "**pd.DataFrame.dropna()**"
   ]
  },
  {
   "cell_type": "code",
   "execution_count": null,
   "metadata": {},
   "outputs": [],
   "source": []
  },
  {
   "cell_type": "markdown",
   "metadata": {},
   "source": [
    "#### حذف سطرها و ستون های مشخص \n",
    "**pd.DataFrame.drop()**"
   ]
  },
  {
   "cell_type": "markdown",
   "metadata": {},
   "source": [
    "#### حذف سطرهایی که ستون(های) آنها مقداری ندارند \n",
    "**pd.DataFrame.dropna**"
   ]
  },
  {
   "cell_type": "code",
   "execution_count": null,
   "metadata": {},
   "outputs": [],
   "source": []
  },
  {
   "cell_type": "markdown",
   "metadata": {},
   "source": [
    "#### جاسازی داده در مکان هایی که مقداری ندارند \n",
    "**pd.DataFrame.fillna(value)**"
   ]
  },
  {
   "cell_type": "code",
   "execution_count": null,
   "metadata": {},
   "outputs": [],
   "source": []
  },
  {
   "cell_type": "markdown",
   "metadata": {},
   "source": [
    "## انواع داده در پانداز"
   ]
  },
  {
   "cell_type": "markdown",
   "metadata": {},
   "source": [
    "داده ها در پانداز بر دو نوع اند:\n",
    "سری ها و دیتافریم ها\n",
    "    "
   ]
  },
  {
   "cell_type": "markdown",
   "metadata": {},
   "source": [
    "سری ها آرایه های یک بعدی اند\n",
    "برای ایجاد آنها از دستور زیر استفاده میکنیم:\n",
    "\n",
    "**series1 = pd.Series([1,2,3,4])**"
   ]
  },
  {
   "cell_type": "code",
   "execution_count": null,
   "metadata": {},
   "outputs": [],
   "source": []
  },
  {
   "cell_type": "markdown",
   "metadata": {},
   "source": [
    "می توان برای تولید سری ها از آرایه های «نام پای» استفاده کرد:\n",
    "\n",
    "**fruits = np.array(['apple','orange','mango','pear'])**\n",
    "\n",
    "**series2 = pd.Series(fruits)**"
   ]
  },
  {
   "cell_type": "code",
   "execution_count": null,
   "metadata": {},
   "outputs": [],
   "source": []
  },
  {
   "cell_type": "markdown",
   "metadata": {},
   "source": [
    "دیتافریم ها ساختار دوبعدی داشته و داده ها را در ساختاری سطری-ستونی ذخیره میکنند.\n",
    "\n",
    "**data = {'name': ['Jason', 'Molly', 'Tina', 'Jake', 'Amy'], \n",
    "        'year': [2012, 2012, 2013, 2014, 2014], \n",
    "        'reports': [4, 24, 31, 2, 3]}**\n",
    "        \n",
    "**df = pd.DataFrame(data, index = ['Cochice', 'Pima', 'Santa Cruz', 'Maricopa', 'Yuma'])**"
   ]
  },
  {
   "cell_type": "code",
   "execution_count": null,
   "metadata": {},
   "outputs": [],
   "source": []
  },
  {
   "cell_type": "markdown",
   "metadata": {},
   "source": [
    "## رسم نمودار"
   ]
  },
  {
   "cell_type": "markdown",
   "metadata": {},
   "source": [
    "**df.plot(kind='scatter',x='X',y='Y',color='red')**\n",
    "\n",
    "**plt.show()**"
   ]
  },
  {
   "cell_type": "code",
   "execution_count": null,
   "metadata": {},
   "outputs": [],
   "source": []
  },
  {
   "cell_type": "markdown",
   "metadata": {},
   "source": [
    "## ذخیره داده ها در فایل جدید"
   ]
  },
  {
   "cell_type": "markdown",
   "metadata": {},
   "source": [
    "**pd.to_csv()**"
   ]
  },
  {
   "cell_type": "code",
   "execution_count": null,
   "metadata": {},
   "outputs": [],
   "source": []
  }
 ],
 "metadata": {
  "kernelspec": {
   "display_name": "Python 3",
   "language": "python",
   "name": "python3"
  },
  "language_info": {
   "codemirror_mode": {
    "name": "ipython",
    "version": 3
   },
   "file_extension": ".py",
   "mimetype": "text/x-python",
   "name": "python",
   "nbconvert_exporter": "python",
   "pygments_lexer": "ipython3",
   "version": "3.7.3"
  }
 },
 "nbformat": 4,
 "nbformat_minor": 2
}
